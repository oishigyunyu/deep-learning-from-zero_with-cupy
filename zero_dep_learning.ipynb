{
  "nbformat": 4,
  "nbformat_minor": 0,
  "metadata": {
    "colab": {
      "name": "zero_dep_learning.ipynb",
      "provenance": [],
      "collapsed_sections": [],
      "toc_visible": true,
      "include_colab_link": true
    },
    "kernelspec": {
      "name": "python3",
      "display_name": "Python 3"
    }
  },
  "cells": [
    {
      "cell_type": "markdown",
      "metadata": {
        "id": "view-in-github",
        "colab_type": "text"
      },
      "source": [
        "<a href=\"https://colab.research.google.com/github/oishigyunyu/deep-learning-from-zero_with-cupy/blob/master/zero_dep_learning.ipynb\" target=\"_parent\"><img src=\"https://colab.research.google.com/assets/colab-badge.svg\" alt=\"Open In Colab\"/></a>"
      ]
    },
    {
      "cell_type": "code",
      "metadata": {
        "id": "klcHGmYMnB9w",
        "colab": {
          "base_uri": "https://localhost:8080/"
        },
        "outputId": "137788f9-f2f4-4977-ae15-4ddcdf256385"
      },
      "source": [
        "!git clone https://github.com/oreilly-japan/deep-learning-from-scratch.git"
      ],
      "execution_count": 1,
      "outputs": [
        {
          "output_type": "stream",
          "text": [
            "Cloning into 'deep-learning-from-scratch'...\n",
            "remote: Enumerating objects: 446, done.\u001b[K\n",
            "remote: Total 446 (delta 0), reused 0 (delta 0), pack-reused 446\u001b[K\n",
            "Receiving objects: 100% (446/446), 5.52 MiB | 30.36 MiB/s, done.\n",
            "Resolving deltas: 100% (232/232), done.\n"
          ],
          "name": "stdout"
        }
      ]
    },
    {
      "cell_type": "markdown",
      "metadata": {
        "id": "ATg_yI5n4_C1"
      },
      "source": [
        "# 3 ニューラルネットワーク"
      ]
    },
    {
      "cell_type": "markdown",
      "metadata": {
        "id": "Ob6RQhxs2S-v"
      },
      "source": [
        "### **3.2.3 ステップ関数のグラフ**"
      ]
    },
    {
      "cell_type": "markdown",
      "metadata": {
        "id": "FIWr2axV6MOg"
      },
      "source": [
        "$f(x)=\\left\\{\n",
        "  \\begin{array}{}\n",
        "  1 & (x \\geq 0 )\\\\\n",
        "  0 & (x \\lt 0 )\n",
        "  \\end{array}\n",
        "  \\right.\n",
        "$"
      ]
    },
    {
      "cell_type": "code",
      "metadata": {
        "id": "MizUfKjY11Fg"
      },
      "source": [
        "import numpy as np\n",
        "import matplotlib.pyplot as plt"
      ],
      "execution_count": 2,
      "outputs": []
    },
    {
      "cell_type": "code",
      "metadata": {
        "id": "elW7rLRIW0OC",
        "colab": {
          "base_uri": "https://localhost:8080/"
        },
        "outputId": "1c2ce0c3-194c-4324-f09b-a99352c1cdf8"
      },
      "source": [
        "print(\"hello wold\")"
      ],
      "execution_count": 3,
      "outputs": [
        {
          "output_type": "stream",
          "text": [
            "hello wold\n"
          ],
          "name": "stdout"
        }
      ]
    },
    {
      "cell_type": "code",
      "metadata": {
        "id": "IbUk20JG2MAE"
      },
      "source": [
        "def step_function(x):\n",
        "  return np.array(x > 0, dtype=np.int)"
      ],
      "execution_count": 4,
      "outputs": []
    },
    {
      "cell_type": "code",
      "metadata": {
        "id": "20KMPA7C2VZ6",
        "colab": {
          "base_uri": "https://localhost:8080/",
          "height": 265
        },
        "outputId": "11579c26-32e2-4b8d-99b3-1964546afb76"
      },
      "source": [
        "x = np.arange(-5.0,5.0,0.1)\n",
        "y = step_function(x)\n",
        "plt.plot(x,y)\n",
        "plt.ylim(-0.1,1.1)\n",
        "plt.show()"
      ],
      "execution_count": 5,
      "outputs": [
        {
          "output_type": "display_data",
          "data": {
            "image/png": "[encoded data removed]",
            "text/plain": [
              "<Figure size 432x288 with 1 Axes>"
            ]
          },
          "metadata": {
            "tags": [],
            "needs_background": "light"
          }
        }
      ]
    },
    {
      "cell_type": "markdown",
      "metadata": {
        "id": "F_bdM7h02w7D"
      },
      "source": [
        "### **3.2.4シグモイド関数の実装**"
      ]
    },
    {
      "cell_type": "markdown",
      "metadata": {
        "id": "wwX3Uz1h7FUR"
      },
      "source": [
        "$f(x)= \\displaystyle\\frac{1}{1+exp(-x)}\n",
        "$"
      ]
    },
    {
      "cell_type": "code",
      "metadata": {
        "id": "2LKt3nvd2ovr"
      },
      "source": [
        "def sigmoid(x):\n",
        "  return 1 /  (1 + np.exp(-x))"
      ],
      "execution_count": 6,
      "outputs": []
    },
    {
      "cell_type": "code",
      "metadata": {
        "id": "zttcX8nX29Lp",
        "colab": {
          "base_uri": "https://localhost:8080/",
          "height": 265
        },
        "outputId": "f492975c-63b0-491b-fa16-4b519c6ce46b"
      },
      "source": [
        "x = np.arange(-5.0,5.0,0.1)\n",
        "y = sigmoid(x)\n",
        "plt.plot(x,y)\n",
        "plt.ylim(-0.1,1.1)\n",
        "plt.show()"
      ],
      "execution_count": 7,
      "outputs": [
        {
          "output_type": "display_data",
          "data": {
            "image/png": "[encoded data removed]",
            "text/plain": [
              "<Figure size 432x288 with 1 Axes>"
            ]
          },
          "metadata": {
            "tags": [],
            "needs_background": "light"
          }
        }
      ]
    },
    {
      "cell_type": "markdown",
      "metadata": {
        "id": "Z7yAAiMA4Whq"
      },
      "source": [
        "### **3.2.7ReLU関数(Rectified Linear Unit)**"
      ]
    },
    {
      "cell_type": "markdown",
      "metadata": {
        "id": "9d8YSDFC7AoE"
      },
      "source": [
        "$f(x)=\\left\\{\n",
        "  \\begin{array}{}\n",
        "  x & (x \\geq 0 )\\\\\n",
        "  0 & (x \\lt 0 )\n",
        "  \\end{array}\n",
        "  \\right.\n",
        "$"
      ]
    },
    {
      "cell_type": "code",
      "metadata": {
        "id": "J8vetOaZ3poB"
      },
      "source": [
        "def relu(x):\n",
        "  return np.maximum(0, x)"
      ],
      "execution_count": 8,
      "outputs": []
    },
    {
      "cell_type": "code",
      "metadata": {
        "id": "lJmeHMlB4ojT",
        "colab": {
          "base_uri": "https://localhost:8080/",
          "height": 265
        },
        "outputId": "6129b36d-5d4f-4bea-e750-6bead7767deb"
      },
      "source": [
        "x = np.arange(-5.0,5.0,0.1)\n",
        "y = relu(x)\n",
        "plt.plot(x,y)\n",
        "plt.ylim(-0.1,1.1)\n",
        "plt.show()"
      ],
      "execution_count": 9,
      "outputs": [
        {
          "output_type": "display_data",
          "data": {
            "image/png": "[encoded data removed]",
            "text/plain": [
              "<Figure size 432x288 with 1 Axes>"
            ]
          },
          "metadata": {
            "tags": [],
            "needs_background": "light"
          }
        }
      ]
    },
    {
      "cell_type": "markdown",
      "metadata": {
        "id": "SByP03nI5gaS"
      },
      "source": [
        "## **3.4 3層ニューラルネットワークの実装**"
      ]
    },
    {
      "cell_type": "markdown",
      "metadata": {
        "id": "eqWh-yZ-kHFF"
      },
      "source": [
        "恒等関数"
      ]
    },
    {
      "cell_type": "code",
      "metadata": {
        "id": "xt32yV6B9blf"
      },
      "source": [
        "def identity_function(x):\n",
        "  return x"
      ],
      "execution_count": 10,
      "outputs": []
    },
    {
      "cell_type": "markdown",
      "metadata": {
        "id": "cDNGC04mkIx_"
      },
      "source": [
        "ネットワークの重みとバイアスの初期化"
      ]
    },
    {
      "cell_type": "code",
      "metadata": {
        "id": "dOF0726m4tt7"
      },
      "source": [
        "def init_network():\n",
        "  network = {}\n",
        "  network['W1'] = np.array([[0.1, 0.3, 0.5], [0.2, 0.4, 0.6]])\n",
        "  network['b1'] = np.array([0.1, 0.2, 0.3])\n",
        "  network['W2'] = np.array([[0.1, 0.4], [0.2, 0.5], [0.3, 0.6]])\n",
        "  network['b2'] = np.array([0.1, 0.2])\n",
        "  network['W3'] = np.array([[0.1, 0.3], [0.2, 0.4]])\n",
        "  network['b3'] = np.array([0.1, 0.2])\n",
        "\n",
        "  return network"
      ],
      "execution_count": 11,
      "outputs": []
    },
    {
      "cell_type": "markdown",
      "metadata": {
        "id": "u53wjPWBkNiw"
      },
      "source": [
        "順伝搬処理"
      ]
    },
    {
      "cell_type": "code",
      "metadata": {
        "id": "X2A79qWQ8ycd"
      },
      "source": [
        "def forward(network, x):\n",
        "  W1, W2, W3 = network['W1'], network['W2'], network['W3']\n",
        "  b1, b2, b3 = network['b1'], network['b2'], network['b3']\n",
        "\n",
        "  a1 = np.dot(x, W1) + b1\n",
        "  z1 = sigmoid(a1)\n",
        "  a2 = np.dot(z1, W2) + b2\n",
        "  z2 = sigmoid(a2)\n",
        "  a3 = np.dot(z2, W3) + b3\n",
        "  y = identity_function(a3)\n",
        "\n",
        "  return y"
      ],
      "execution_count": 12,
      "outputs": []
    },
    {
      "cell_type": "code",
      "metadata": {
        "id": "1BcEoR5Y9Y8k",
        "colab": {
          "base_uri": "https://localhost:8080/"
        },
        "outputId": "fd2f55d4-8467-40c0-99b7-10c5b8bad522"
      },
      "source": [
        "network = init_network()\n",
        "x = np.array([1.0, 0.5])\n",
        "y = forward(network, x)\n",
        "y"
      ],
      "execution_count": 13,
      "outputs": [
        {
          "output_type": "execute_result",
          "data": {
            "text/plain": [
              "array([0.31682708, 0.69627909])"
            ]
          },
          "metadata": {
            "tags": []
          },
          "execution_count": 13
        }
      ]
    },
    {
      "cell_type": "markdown",
      "metadata": {
        "id": "W8iaOaAU_Vnt"
      },
      "source": [
        "## **3.5出力層の設計**"
      ]
    },
    {
      "cell_type": "markdown",
      "metadata": {
        "id": "YaiMrpJZ_YTy"
      },
      "source": [
        "### **3.5.1恒等関数とソフトマックス関数**"
      ]
    },
    {
      "cell_type": "markdown",
      "metadata": {
        "id": "vmc0tpkX_fXe"
      },
      "source": [
        "$y_k=\\displaystyle\\frac{exp(a_k)}{\\sum_{i=1}^{n}exp(a_i)}\n",
        "$"
      ]
    },
    {
      "cell_type": "code",
      "metadata": {
        "id": "UWIHRguv9sz9",
        "colab": {
          "base_uri": "https://localhost:8080/"
        },
        "outputId": "c39015f9-7038-4c3f-a1c2-296b7784b773"
      },
      "source": [
        "a = np.array([0.3, 2.9, 4.0])\n",
        "exp_a = np.exp(a)\n",
        "exp_a"
      ],
      "execution_count": 14,
      "outputs": [
        {
          "output_type": "execute_result",
          "data": {
            "text/plain": [
              "array([ 1.34985881, 18.17414537, 54.59815003])"
            ]
          },
          "metadata": {
            "tags": []
          },
          "execution_count": 14
        }
      ]
    },
    {
      "cell_type": "code",
      "metadata": {
        "id": "085yUCD9AVkK",
        "colab": {
          "base_uri": "https://localhost:8080/"
        },
        "outputId": "4c62cb16-f4b0-4e81-db9a-2699b1df5cba"
      },
      "source": [
        "sum_exp_a = np.sum(exp_a)\n",
        "sum_exp_a"
      ],
      "execution_count": 15,
      "outputs": [
        {
          "output_type": "execute_result",
          "data": {
            "text/plain": [
              "74.1221542101633"
            ]
          },
          "metadata": {
            "tags": []
          },
          "execution_count": 15
        }
      ]
    },
    {
      "cell_type": "code",
      "metadata": {
        "id": "wTgYU-I0AcDQ",
        "colab": {
          "base_uri": "https://localhost:8080/"
        },
        "outputId": "6cfd9a2a-fd36-488b-9e10-f1028ed8fead"
      },
      "source": [
        "y = exp_a / sum_exp_a\n",
        "y"
      ],
      "execution_count": 16,
      "outputs": [
        {
          "output_type": "execute_result",
          "data": {
            "text/plain": [
              "array([0.01821127, 0.24519181, 0.73659691])"
            ]
          },
          "metadata": {
            "tags": []
          },
          "execution_count": 16
        }
      ]
    },
    {
      "cell_type": "code",
      "metadata": {
        "id": "_BPSFVrgAjsf"
      },
      "source": [
        "def softmax(a):\n",
        "  exp_a = np.exp(a)\n",
        "  sum_exp_a = np.sum(exp_a)\n",
        "  y = exp_a / sum_exp_a\n",
        "\n",
        "  return y"
      ],
      "execution_count": 17,
      "outputs": []
    },
    {
      "cell_type": "code",
      "metadata": {
        "id": "dBF8ucPgAw8x",
        "colab": {
          "base_uri": "https://localhost:8080/"
        },
        "outputId": "5ecaab65-2b4c-4755-d477-28cb5178c7fe"
      },
      "source": [
        "a = np.array([1010, 1000, 900])\n",
        "np.exp(a) / np.sum(np.exp(a))"
      ],
      "execution_count": 18,
      "outputs": [
        {
          "output_type": "stream",
          "text": [
            "/usr/local/lib/python3.6/dist-packages/ipykernel_launcher.py:2: RuntimeWarning: overflow encountered in exp\n",
            "  \n",
            "/usr/local/lib/python3.6/dist-packages/ipykernel_launcher.py:2: RuntimeWarning: invalid value encountered in true_divide\n",
            "  \n"
          ],
          "name": "stderr"
        },
        {
          "output_type": "execute_result",
          "data": {
            "text/plain": [
              "array([nan, nan, nan])"
            ]
          },
          "metadata": {
            "tags": []
          },
          "execution_count": 18
        }
      ]
    },
    {
      "cell_type": "markdown",
      "metadata": {
        "id": "5zVX1aMeBAh3"
      },
      "source": [
        "このままではオーバーフローするので、**akの中の最大値を引き算**してから計算することでオーバーフローが防げる"
      ]
    },
    {
      "cell_type": "code",
      "metadata": {
        "id": "-_8fuftrBaQY",
        "colab": {
          "base_uri": "https://localhost:8080/"
        },
        "outputId": "05dac375-8882-4180-e6ac-aa05f0eabe53"
      },
      "source": [
        "c = np.max(a)\n",
        "a - c"
      ],
      "execution_count": 19,
      "outputs": [
        {
          "output_type": "execute_result",
          "data": {
            "text/plain": [
              "array([   0,  -10, -110])"
            ]
          },
          "metadata": {
            "tags": []
          },
          "execution_count": 19
        }
      ]
    },
    {
      "cell_type": "code",
      "metadata": {
        "id": "Lqre9UwpBnrg",
        "colab": {
          "base_uri": "https://localhost:8080/"
        },
        "outputId": "3fd486cf-2dcc-4706-a41b-40e7b5a2e887"
      },
      "source": [
        "np.exp(a-c) / np.sum(np.exp(a-c))"
      ],
      "execution_count": 20,
      "outputs": [
        {
          "output_type": "execute_result",
          "data": {
            "text/plain": [
              "array([9.99954602e-01, 4.53978687e-05, 1.68883521e-48])"
            ]
          },
          "metadata": {
            "tags": []
          },
          "execution_count": 20
        }
      ]
    },
    {
      "cell_type": "markdown",
      "metadata": {
        "id": "9GTgTfXRCJKB"
      },
      "source": [
        "softmaxは**出力が0から1の間になり、総和は1**になる。  \n",
        "このことから、**出力を確率**としてみることができる。  \n",
        "softmaxを用いることで問題に対して**確率的な対応ができる**ようになる"
      ]
    },
    {
      "cell_type": "code",
      "metadata": {
        "id": "mcT70BG1Brs-"
      },
      "source": [
        "def softmax(a):\n",
        "  c = np.max(a)\n",
        "  exp_a = np.exp(a - c)\n",
        "  sum_exp_a = np.sum(exp_a)\n",
        "  y = exp_a / sum_exp_a\n",
        "\n",
        "  return y"
      ],
      "execution_count": 21,
      "outputs": []
    },
    {
      "cell_type": "markdown",
      "metadata": {
        "id": "_EPv9snmDX6p"
      },
      "source": [
        "## **3.6手書き数字認識**"
      ]
    },
    {
      "cell_type": "markdown",
      "metadata": {
        "id": "JVJkC2yFWOEM"
      },
      "source": [
        "### 3.6.1 MNISTデータセット"
      ]
    },
    {
      "cell_type": "code",
      "metadata": {
        "id": "rnyGP3efW3hR",
        "colab": {
          "base_uri": "https://localhost:8080/"
        },
        "outputId": "59cb2ace-e90e-4c4c-9547-901142ff5a28"
      },
      "source": [
        "!wget https://raw.githubusercontent.com/oreilly-japan/deep-learning-from-scratch/master/dataset/mnist.py"
      ],
      "execution_count": 22,
      "outputs": [
        {
          "output_type": "stream",
          "text": [
            "--2020-11-22 01:00:14--  https://raw.githubusercontent.com/oreilly-japan/deep-learning-from-scratch/master/dataset/mnist.py\n",
            "Resolving raw.githubusercontent.com (raw.githubusercontent.com)... 151.101.0.133, 151.101.64.133, 151.101.128.133, ...\n",
            "Connecting to raw.githubusercontent.com (raw.githubusercontent.com)|151.101.0.133|:443... connected.\n",
            "HTTP request sent, awaiting response... 200 OK\n",
            "Length: 3495 (3.4K) [text/plain]\n",
            "Saving to: ‘mnist.py’\n",
            "\n",
            "\rmnist.py              0%[                    ]       0  --.-KB/s               \rmnist.py            100%[===================>]   3.41K  --.-KB/s    in 0s      \n",
            "\n",
            "2020-11-22 01:00:14 (49.9 MB/s) - ‘mnist.py’ saved [3495/3495]\n",
            "\n"
          ],
          "name": "stdout"
        }
      ]
    },
    {
      "cell_type": "code",
      "metadata": {
        "id": "s91t5zoSCAv3",
        "colab": {
          "base_uri": "https://localhost:8080/"
        },
        "outputId": "b01a8fb4-b3af-4787-ccd6-85e7fde9d716"
      },
      "source": [
        "import sys, os\n",
        "#sys.path.append(\"/content/drive/My Drive/Google_Colab/deep-learning-from-zero_with-cupy\")\n",
        "from mnist import load_mnist\n",
        "(x_train, y_train), (x_test, y_test) = load_mnist(flatten = True, normalize=False)"
      ],
      "execution_count": 23,
      "outputs": [
        {
          "output_type": "stream",
          "text": [
            "Downloading train-images-idx3-ubyte.gz ... \n",
            "Done\n",
            "Downloading train-labels-idx1-ubyte.gz ... \n",
            "Done\n",
            "Downloading t10k-images-idx3-ubyte.gz ... \n",
            "Done\n",
            "Downloading t10k-labels-idx1-ubyte.gz ... \n",
            "Done\n",
            "Converting train-images-idx3-ubyte.gz to NumPy Array ...\n",
            "Done\n",
            "Converting train-labels-idx1-ubyte.gz to NumPy Array ...\n",
            "Done\n",
            "Converting t10k-images-idx3-ubyte.gz to NumPy Array ...\n",
            "Done\n",
            "Converting t10k-labels-idx1-ubyte.gz to NumPy Array ...\n",
            "Done\n",
            "Creating pickle file ...\n",
            "Done!\n"
          ],
          "name": "stdout"
        }
      ]
    },
    {
      "cell_type": "code",
      "metadata": {
        "id": "uF2ILbQqD4_d"
      },
      "source": [
        "from PIL import Image\n",
        "def img_show(img):\n",
        "  pil_img = Image.fromarray(np.uint8(img))\n",
        "  pil_img.show()"
      ],
      "execution_count": 24,
      "outputs": []
    },
    {
      "cell_type": "code",
      "metadata": {
        "id": "GMzwH1eISDEk",
        "colab": {
          "base_uri": "https://localhost:8080/"
        },
        "outputId": "0e4a831c-9b5d-4b39-a740-cd649c0f0f87"
      },
      "source": [
        "(x_train, t_train), (x_test, t_test) = load_mnist(flatten=True, normalize=False)\n",
        "img = x_train[0]\n",
        "label = t_train[0]\n",
        "print(label)\n",
        "print(img.shape)\n",
        "img = img.reshape(28, 28)\n",
        "print(img.shape)\n",
        "img_show(img)"
      ],
      "execution_count": 25,
      "outputs": [
        {
          "output_type": "stream",
          "text": [
            "5\n",
            "(784,)\n",
            "(28, 28)\n"
          ],
          "name": "stdout"
        }
      ]
    },
    {
      "cell_type": "markdown",
      "metadata": {
        "id": "9ScCKNEiSwFc"
      },
      "source": [
        "### 3.6.2 ニューラルネットワークの推論処理"
      ]
    },
    {
      "cell_type": "code",
      "metadata": {
        "id": "yBT7y8ssSY74"
      },
      "source": [
        "def get_data():\n",
        "  (x_train, t_train), (x_test, t_test) = load_mnist(flatten=True, normalize=True, one_hot_label=False)\n",
        "  return x_test, t_test"
      ],
      "execution_count": 26,
      "outputs": []
    },
    {
      "cell_type": "code",
      "metadata": {
        "id": "3TYOqujdYGSK",
        "colab": {
          "base_uri": "https://localhost:8080/"
        },
        "outputId": "93351bf4-6880-4891-9ad5-2f2c07a416df"
      },
      "source": [
        "!wget https://github.com/oreilly-japan/deep-learning-from-scratch/blob/master/ch03/sample_weight.pkl"
      ],
      "execution_count": 27,
      "outputs": [
        {
          "output_type": "stream",
          "text": [
            "--2020-11-22 01:00:17--  https://github.com/oreilly-japan/deep-learning-from-scratch/blob/master/ch03/sample_weight.pkl\n",
            "Resolving github.com (github.com)... 192.30.255.113\n",
            "Connecting to github.com (github.com)|192.30.255.113|:443... connected.\n",
            "HTTP request sent, awaiting response... 200 OK\n",
            "Length: unspecified [text/html]\n",
            "Saving to: ‘sample_weight.pkl’\n",
            "\n",
            "sample_weight.pkl       [ <=>                ]  92.17K  --.-KB/s    in 0.02s   \n",
            "\n",
            "2020-11-22 01:00:17 (4.41 MB/s) - ‘sample_weight.pkl’ saved [94384]\n",
            "\n"
          ],
          "name": "stdout"
        }
      ]
    },
    {
      "cell_type": "code",
      "metadata": {
        "id": "CkYdNlEMYObl",
        "colab": {
          "base_uri": "https://localhost:8080/"
        },
        "outputId": "2041b3bb-7d76-4423-c300-8814fc5a4b05"
      },
      "source": [
        "!ls"
      ],
      "execution_count": 28,
      "outputs": [
        {
          "output_type": "stream",
          "text": [
            "deep-learning-from-scratch  sample_weight.pkl\n",
            "mnist.pkl\t\t    t10k-images-idx3-ubyte.gz\n",
            "mnist.py\t\t    t10k-labels-idx1-ubyte.gz\n",
            "__pycache__\t\t    train-images-idx3-ubyte.gz\n",
            "sample_data\t\t    train-labels-idx1-ubyte.gz\n"
          ],
          "name": "stdout"
        }
      ]
    },
    {
      "cell_type": "code",
      "metadata": {
        "id": "vBSEhEmOTGz9"
      },
      "source": [
        "import pickle\n",
        "def init_network():\n",
        "  with open(\"./deep-learning-from-scratch/ch03/sample_weight.pkl\",  \"rb\") as f:\n",
        "    network = pickle.load(f)\n",
        "\n",
        "  return network"
      ],
      "execution_count": 29,
      "outputs": []
    },
    {
      "cell_type": "code",
      "metadata": {
        "id": "bZTzsjVLTVuv"
      },
      "source": [
        "def predict(network, x):\n",
        "  W1, W2, W3 = network['W1'], network['W2'], network['W3']\n",
        "  b1, b2, b3 = network['b1'], network['b2'], network['b3']\n",
        "\n",
        "  a1 = np.dot(x, W1) + b1\n",
        "  z1 = sigmoid(a1)\n",
        "  a2 = np.dot(z1, W2) + b2\n",
        "  z2 = sigmoid(a2)\n",
        "  a3 = np.dot(z2, W3) + b3\n",
        "  y = softmax(a3)\n",
        "\n",
        "  return y"
      ],
      "execution_count": 30,
      "outputs": []
    },
    {
      "cell_type": "code",
      "metadata": {
        "id": "xQgVUIGsThs_",
        "colab": {
          "base_uri": "https://localhost:8080/"
        },
        "outputId": "946792f0-d6aa-456e-9b38-bab2faa7531c"
      },
      "source": [
        "x, t = get_data()\n",
        "network = init_network()\n",
        "accuracy_cnt = 0\n",
        "for i in range(len(x)):\n",
        "  y = predict(network, x[i])\n",
        "  p = np.argmax(y)\n",
        "  if(p == t[i]):\n",
        "    accuracy_cnt += 1\n",
        "print(\"Accuracy: \" + str(float(accuracy_cnt) / len(x)))"
      ],
      "execution_count": 31,
      "outputs": [
        {
          "output_type": "stream",
          "text": [
            "Accuracy: 0.9352\n"
          ],
          "name": "stdout"
        }
      ]
    },
    {
      "cell_type": "markdown",
      "metadata": {
        "id": "QyTUNy8BVqcy"
      },
      "source": [
        "データを0.0~1.0に収めることを**正規化**という  \n",
        "NNの入力データに対して何らかの決まった変換を**前処理**という  \n",
        "それ以外にも**白色化(Whitening)**などの前処理がある"
      ]
    },
    {
      "cell_type": "markdown",
      "metadata": {
        "id": "gRtKmav0WIis"
      },
      "source": [
        "### 3.6.3 バッチ処理"
      ]
    },
    {
      "cell_type": "markdown",
      "metadata": {
        "id": "jUkGhYxzWepb"
      },
      "source": [
        "1バッチ分の処理の時のshape  \n",
        "&emsp;X &emsp;&emsp;&emsp;W1 &emsp;&emsp; W2 &emsp;&emsp;  W3 &emsp; → &emsp;Y  \n",
        "784&emsp;784x50&emsp;50x100&emsp;100x10&emsp;&emsp;&emsp;10"
      ]
    },
    {
      "cell_type": "markdown",
      "metadata": {
        "id": "2QBNCkQJXrQ0"
      },
      "source": [
        "100バッチ分の処理の時のshape  \n",
        "&emsp;X &emsp;&emsp;&emsp;&emsp;W1 &emsp;&emsp; W2 &emsp;&emsp;  W3 &emsp;&emsp; → &emsp;&emsp;Y  \n",
        "**100**x784&emsp;784x50&emsp;50x100&emsp;100x10&emsp;&emsp;&emsp;**100**x10"
      ]
    },
    {
      "cell_type": "markdown",
      "metadata": {
        "id": "cs2Mi8ebX_Lg"
      },
      "source": [
        "バッチ処理の実装"
      ]
    },
    {
      "cell_type": "code",
      "metadata": {
        "id": "3CPsY2uoWIX9",
        "colab": {
          "base_uri": "https://localhost:8080/"
        },
        "outputId": "56842223-c4e8-432b-c5b2-9f16e0846249"
      },
      "source": [
        "x, t = get_data()\n",
        "network = init_network()\n",
        "\n",
        "batch_size = 100\n",
        "accuracy_cnt = 0\n",
        "\n",
        "for i in range(0, len(x), batch_size):\n",
        "  x_batch = x[i:i+batch_size]\n",
        "  y_batch = predict(network, x_batch)\n",
        "  p = np.argmax(y_batch, axis=1)\n",
        "  accuracy_cnt += np.sum(p == t[i:i+batch_size])\n",
        "print(\"Accuracy: \" + str(float(accuracy_cnt) / len(x)))"
      ],
      "execution_count": 32,
      "outputs": [
        {
          "output_type": "stream",
          "text": [
            "Accuracy: 0.9352\n"
          ],
          "name": "stdout"
        }
      ]
    },
    {
      "cell_type": "markdown",
      "metadata": {
        "id": "hpwIBiWvYmcy"
      },
      "source": [
        "## 3.7 まとめ  \n",
        "\n",
        "\n",
        "*   NNは活性化関数に**sigmoidやsoftmax**を使って**滑らかに変化**させる  \n",
        "*   numpyの多次元配列でNNを効率的に実装可能  \n",
        "*   機械学習は、回帰問題と分類問題に区別できる  \n",
        "*   出力総出の活性化関数は、**回帰問題は恒等関数、分類問題はソフトマックス関数**を一般的に用いる  \n",
        "*   分類問題では、NNの出力層のニューロン数をクラス数に設定する  \n",
        "*   入力データのまとまりをバッチと呼び、バッチ単位で推論処理を行うことにより高速に計算ができる。  \n",
        "\n"
      ]
    },
    {
      "cell_type": "markdown",
      "metadata": {
        "id": "ZeJFwAx042N9"
      },
      "source": [
        "# 4 ニューラルネットワークの学習 "
      ]
    },
    {
      "cell_type": "markdown",
      "metadata": {
        "id": "hi0ls6Pd1nHD"
      },
      "source": [
        "損失関数という指標の導入"
      ]
    },
    {
      "cell_type": "markdown",
      "metadata": {
        "id": "ISkM_Xt_1rDr"
      },
      "source": [
        "## 4.1 データからの学習"
      ]
    },
    {
      "cell_type": "markdown",
      "metadata": {
        "id": "riSE3rhw5CsA"
      },
      "source": [
        "### 4.1.1 データ駆動"
      ]
    },
    {
      "cell_type": "markdown",
      "metadata": {
        "id": "imogtUVe15Mb"
      },
      "source": [
        "認識アルゴリズムを作る手立てとしては**特徴量**を抽出というものがある。  \n",
        "SIFT, SURF, HOG特徴量etc...  \n",
        "画像データをベクトルに変換し、SVMやKNNなどで学習  \n",
        "**特徴量は人が決める**  \n",
        "ディープラーニングは特徴量までもを自分で見つけ出す  \n",
        "end-to-end(入力から目的の出力を得る）  \n"
      ]
    },
    {
      "cell_type": "markdown",
      "metadata": {
        "id": "NtLC0PB53Gkr"
      },
      "source": [
        "### 4.1.2 訓練データとテストデータ  "
      ]
    },
    {
      "cell_type": "markdown",
      "metadata": {
        "id": "DChErCl13MZm"
      },
      "source": [
        "モデルの汎化能力を正しく評価するために訓練データとテストデータを分割する  \n",
        "あるデータセットだけに過度に対応した状態を**過学習**という"
      ]
    },
    {
      "cell_type": "markdown",
      "metadata": {
        "id": "sWuSCzVo3lCC"
      },
      "source": [
        "## 4.2 損失関数 "
      ]
    },
    {
      "cell_type": "markdown",
      "metadata": {
        "id": "CN6nVen13pSG"
      },
      "source": [
        "ニューラルネットワークでは**損失関数**という指標を用いる  \n",
        "一般には二乗和誤差やクロスエントロピーが使われる  \n"
      ]
    },
    {
      "cell_type": "markdown",
      "metadata": {
        "id": "PMrV6t3g4AHG"
      },
      "source": [
        "### 4.2.1 二乗和誤差 "
      ]
    },
    {
      "cell_type": "markdown",
      "metadata": {
        "id": "Zoe3fT0u4DfD"
      },
      "source": [
        "$E=\\displaystyle\\frac{1}{2}\\sum_{k} (y_k-t_k)^2$"
      ]
    },
    {
      "cell_type": "code",
      "metadata": {
        "id": "0U9OUb084rfP"
      },
      "source": [
        "def mean_squared_error(y, t):\n",
        "  return 0.5 * np.sum((y-t)**2)"
      ],
      "execution_count": 33,
      "outputs": []
    },
    {
      "cell_type": "code",
      "metadata": {
        "id": "gWCdQWrw4yjp",
        "colab": {
          "base_uri": "https://localhost:8080/"
        },
        "outputId": "d488fa6e-2e0a-470f-dda6-99edee49708d"
      },
      "source": [
        "t = [0, 0, 1, 0, 0, 0, 0, 0, 0, 0]\n",
        "y = [0.1, 0.05, 0.6, 0.0, 0.05, 0.1, 0.0, 0.1, 0.0, 0.0]\n",
        "mean_squared_error(np.array(y), np.array(t))"
      ],
      "execution_count": 34,
      "outputs": [
        {
          "output_type": "execute_result",
          "data": {
            "text/plain": [
              "0.09750000000000003"
            ]
          },
          "metadata": {
            "tags": []
          },
          "execution_count": 34
        }
      ]
    },
    {
      "cell_type": "markdown",
      "metadata": {
        "id": "qyi2m0oC5Pf5"
      },
      "source": [
        "### 4.2.2 交差エントロピー誤差"
      ]
    },
    {
      "cell_type": "markdown",
      "metadata": {
        "id": "K3-t8zSE5SkD"
      },
      "source": [
        "$E=\\displaystyle-\\sum_{k} t_k\\log y_k$"
      ]
    },
    {
      "cell_type": "code",
      "metadata": {
        "id": "vpzvBfkR5GST"
      },
      "source": [
        "def cross_entropy_error(y, t):\n",
        "  delta = 1e-7\n",
        "  return -np.sum(t * np.log(y + delta))"
      ],
      "execution_count": 35,
      "outputs": []
    },
    {
      "cell_type": "code",
      "metadata": {
        "id": "tnyIj2LM58vd",
        "colab": {
          "base_uri": "https://localhost:8080/"
        },
        "outputId": "e8192e3f-bba7-4796-a864-50a82c1fa8c1"
      },
      "source": [
        "t = [0, 0, 1, 0, 0, 0, 0, 0, 0, 0]\n",
        "y = [0.1, 0.05, 0.6, 0.0, 0.05, 0.1, 0.0, 0.1, 0.0, 0.0]\n",
        "cross_entropy_error(np.array(y), np.array(t))"
      ],
      "execution_count": 36,
      "outputs": [
        {
          "output_type": "execute_result",
          "data": {
            "text/plain": [
              "0.510825457099338"
            ]
          },
          "metadata": {
            "tags": []
          },
          "execution_count": 36
        }
      ]
    },
    {
      "cell_type": "markdown",
      "metadata": {
        "id": "pqlkIvxV6D5I"
      },
      "source": [
        "### 4.2.3　ミニバッチ学習  "
      ]
    },
    {
      "cell_type": "markdown",
      "metadata": {
        "id": "aESP_vsv6Gkw"
      },
      "source": [
        "訓練データすべてのクロスエントロピー誤差"
      ]
    },
    {
      "cell_type": "markdown",
      "metadata": {
        "id": "7M281DIH6wZs"
      },
      "source": [
        "$E=\\displaystyle-\\frac{1}{2}\\sum_n\\sum_k t_{nk}\\log y_{nk}$"
      ]
    },
    {
      "cell_type": "markdown",
      "metadata": {
        "id": "kMtfjxYV7HYV"
      },
      "source": [
        "NこのデータをNでわって正規化→1個あたりの平均の損失関数を算出  \n",
        "データセットがでかくなると全部の損失を求めるのは不可能  \n",
        "データの一部を取り出して計算し、**全体の近似**として利用する→**ミニバッチ学習**  "
      ]
    },
    {
      "cell_type": "code",
      "metadata": {
        "id": "Zr13X0cm6Bg0",
        "colab": {
          "base_uri": "https://localhost:8080/"
        },
        "outputId": "90f29390-a1a6-4b7f-f6ad-df2ee3601989"
      },
      "source": [
        "(x_train, t_train), (x_test, t_test) = load_mnist(normalize=True, one_hot_label=True)\n",
        "x_train.shape"
      ],
      "execution_count": 37,
      "outputs": [
        {
          "output_type": "execute_result",
          "data": {
            "text/plain": [
              "(60000, 784)"
            ]
          },
          "metadata": {
            "tags": []
          },
          "execution_count": 37
        }
      ]
    },
    {
      "cell_type": "code",
      "metadata": {
        "id": "vjSma7H771zJ"
      },
      "source": [
        "train_size = x_train.shape[0]\n",
        "batch_size = 10\n",
        "batch_mask = np.random.choice(train_size, batch_size)\n",
        "x_batch = x_train[batch_mask]\n",
        "t_batch = t_train[batch_mask]"
      ],
      "execution_count": 38,
      "outputs": []
    },
    {
      "cell_type": "markdown",
      "metadata": {
        "id": "aepw0Uo98cuA"
      },
      "source": [
        "### 4.2.4 [バッチ対応版]クロスエントロピー誤差の実装"
      ]
    },
    {
      "cell_type": "code",
      "metadata": {
        "id": "wgawJhNs8Q1o"
      },
      "source": [
        "def cross_entropy_error(y, t):\n",
        "  if y.dim == 1:\n",
        "    t = t.reshape(1, t.size)\n",
        "    y = y.reshape(1, y.size)\n",
        "  \n",
        "  batch_size = y.shape[0]\n",
        "  return -np.sum(t * np.log(y + 1e-7) / batch_size)"
      ],
      "execution_count": 39,
      "outputs": []
    },
    {
      "cell_type": "markdown",
      "metadata": {
        "id": "5ufMpyRe9Ml8"
      },
      "source": [
        "### 4.2.5 なぜ損失関数を設定するのか"
      ]
    },
    {
      "cell_type": "markdown",
      "metadata": {
        "id": "4dtnSuNn9QNC"
      },
      "source": [
        "認識精度が高いネットワークがほしい→認識精度を指標にしたほうがいいんじゃないの？  \n",
        "ネットワーク学習ではパラメータ探索に、損失関数の値を小さくするパラメータを探す  \n",
        "パラメータの微分を計算し、これを手がかりにする  "
      ]
    },
    {
      "cell_type": "markdown",
      "metadata": {
        "id": "sfhzCy6y9p_C"
      },
      "source": [
        "認識精度を指標にしてしまうと、パラメータの微分がほとんどの場所で0になってしまうから "
      ]
    },
    {
      "cell_type": "markdown",
      "metadata": {
        "id": "O4ZCpFuSEOvw"
      },
      "source": [
        "## 4.3 数値微分"
      ]
    },
    {
      "cell_type": "markdown",
      "metadata": {
        "id": "wvvXjhLCEUIa"
      },
      "source": [
        "勾配について、勾配の性質"
      ]
    },
    {
      "cell_type": "markdown",
      "metadata": {
        "id": "RhVlEfMcEi7S"
      },
      "source": [
        "### 4.3.1 微分"
      ]
    },
    {
      "cell_type": "markdown",
      "metadata": {
        "id": "HtclJXrdErSX"
      },
      "source": [
        "$\\displaystyle\\frac{df(x)}{dx}=\\displaystyle\\lim_{x \\to 0}\\frac{f(x+h)-f(x)}{h}$"
      ]
    },
    {
      "cell_type": "markdown",
      "metadata": {
        "id": "g0YEhYZWHPEe"
      },
      "source": [
        "悪い実装例"
      ]
    },
    {
      "cell_type": "code",
      "metadata": {
        "id": "FIdnB0kpHQcz"
      },
      "source": [
        "def numerical_diff(f, x):\n",
        "  h = 10e-50\n",
        "  return (f(x+h) - f(x)) / h"
      ],
      "execution_count": 40,
      "outputs": []
    },
    {
      "cell_type": "markdown",
      "metadata": {
        "id": "PvqtslryHbdl"
      },
      "source": [
        "hが**丸め誤差で0.0**になってしまう  \n",
        "「真の微分」はxの位置での傾き  \n",
        "これだと**xとx+hの傾きに対応するため、厳密に一致しない**  \n",
        "**hを無限に0へ近づけることが困難**なために生じる  "
      ]
    },
    {
      "cell_type": "markdown",
      "metadata": {
        "id": "I5dUJvJqIN3U"
      },
      "source": [
        "(x+h)と(x-h)での関数fの差分を計算し、誤差を軽減する**(中心差分)**  \n",
        "xと(x+h)は**前方差分**"
      ]
    },
    {
      "cell_type": "code",
      "metadata": {
        "id": "fL7JH8VT9MFq"
      },
      "source": [
        "def numerical_diff(f, x):\n",
        "  h = 1e-4\n",
        "  return (f(x+h) - f(x-h)) / (2*h)"
      ],
      "execution_count": 41,
      "outputs": []
    },
    {
      "cell_type": "markdown",
      "metadata": {
        "id": "Bh-AlgH_I2-W"
      },
      "source": [
        "### 4.3.2 数値微分の例 "
      ]
    },
    {
      "cell_type": "markdown",
      "metadata": {
        "id": "-85c4BtiI5Za"
      },
      "source": [
        "$y=0.01x^2+0.1x$"
      ]
    },
    {
      "cell_type": "code",
      "metadata": {
        "id": "GCwZVW5_Iuu_"
      },
      "source": [
        "def function_1(x):\n",
        "  return 0.01*x**2 + 0.1*x"
      ],
      "execution_count": 42,
      "outputs": []
    },
    {
      "cell_type": "code",
      "metadata": {
        "id": "lSKIY02MJjCJ",
        "colab": {
          "base_uri": "https://localhost:8080/",
          "height": 279
        },
        "outputId": "cd2069fa-1966-48e2-a095-822e42fa010b"
      },
      "source": [
        "x = np.arange(0.0, 20.0, 0.1)\n",
        "y = function_1(x)\n",
        "plt.xlabel(\"x\")\n",
        "plt.ylabel(\"f(x)\")\n",
        "plt.plot(x,y)\n",
        "plt.show()"
      ],
      "execution_count": 43,
      "outputs": [
        {
          "output_type": "display_data",
          "data": {
            "image/png": "[encoded data removed]",
            "text/plain": [
              "<Figure size 432x288 with 1 Axes>"
            ]
          },
          "metadata": {
            "tags": [],
            "needs_background": "light"
          }
        }
      ]
    },
    {
      "cell_type": "code",
      "metadata": {
        "id": "GfxkGdSfj0rM",
        "colab": {
          "base_uri": "https://localhost:8080/"
        },
        "outputId": "855339d2-6e06-42d2-8713-2da7ec48ae0b"
      },
      "source": [
        "numerical_diff(function_1, 5)"
      ],
      "execution_count": 44,
      "outputs": [
        {
          "output_type": "execute_result",
          "data": {
            "text/plain": [
              "0.1999999999990898"
            ]
          },
          "metadata": {
            "tags": []
          },
          "execution_count": 44
        }
      ]
    },
    {
      "cell_type": "code",
      "metadata": {
        "id": "Frso8BTnlCtl",
        "colab": {
          "base_uri": "https://localhost:8080/",
          "height": 296
        },
        "outputId": "54b9095d-d77a-4049-a4a8-363c4b93c955"
      },
      "source": [
        "def tangent_line(f, x):\n",
        "    d = numerical_diff(f, x)\n",
        "    print(d)\n",
        "    y = f(x) - d*x\n",
        "    return lambda t: d*t + y\n",
        "     \n",
        "x = np.arange(0.0, 20.0, 0.1)\n",
        "y = function_1(x)\n",
        "plt.xlabel(\"x\")\n",
        "plt.ylabel(\"f(x)\")\n",
        "\n",
        "tf = tangent_line(function_1, 5)\n",
        "y2 = tf(x)\n",
        "\n",
        "plt.plot(x, y2)\n",
        "plt.show()"
      ],
      "execution_count": 45,
      "outputs": [
        {
          "output_type": "stream",
          "text": [
            "0.1999999999990898\n"
          ],
          "name": "stdout"
        },
        {
          "output_type": "display_data",
          "data": {
            "image/png": "[encoded data removed]",
            "text/plain": [
              "<Figure size 432x288 with 1 Axes>"
            ]
          },
          "metadata": {
            "tags": [],
            "needs_background": "light"
          }
        }
      ]
    },
    {
      "cell_type": "markdown",
      "metadata": {
        "id": "oaCaQXSNjEhp"
      },
      "source": [
        "### 4.3.3 偏微分"
      ]
    },
    {
      "cell_type": "markdown",
      "metadata": {
        "id": "h0x8kUPhjHq_"
      },
      "source": [
        "変数が2つある数式の微分  \n",
        "$\\displaystyle f(x_0,x_1)=x_0^2+x_1^2$"
      ]
    },
    {
      "cell_type": "code",
      "metadata": {
        "id": "xyxghYLGuQx7"
      },
      "source": [
        "def function_2(x):\n",
        "  return x[0]**2 + x[1]**2"
      ],
      "execution_count": 46,
      "outputs": []
    },
    {
      "cell_type": "markdown",
      "metadata": {
        "id": "pnNi-8ykqHUO"
      },
      "source": [
        "$x_0=3, x_1=4$のときの$x_0$に対する偏微分$\\frac{\\partial_f}{\\partial_{x_0}}$"
      ]
    },
    {
      "cell_type": "code",
      "metadata": {
        "id": "dojep6mYJto_",
        "colab": {
          "base_uri": "https://localhost:8080/"
        },
        "outputId": "bcc1685e-04d1-416c-d218-f549c770b838"
      },
      "source": [
        "def function_tmp1(x0):\n",
        "  return x0*x0 + 4.00**2.0\n",
        "numerical_diff(function_tmp1, 3.0)"
      ],
      "execution_count": 47,
      "outputs": [
        {
          "output_type": "execute_result",
          "data": {
            "text/plain": [
              "6.00000000000378"
            ]
          },
          "metadata": {
            "tags": []
          },
          "execution_count": 47
        }
      ]
    },
    {
      "cell_type": "markdown",
      "metadata": {
        "id": "loXB0y0JrDJV"
      },
      "source": [
        "$x_1$に対する偏微分"
      ]
    },
    {
      "cell_type": "code",
      "metadata": {
        "id": "Es9pK4zLpp0H",
        "colab": {
          "base_uri": "https://localhost:8080/"
        },
        "outputId": "5bebf929-f023-4e50-c8ec-07be4048e04f"
      },
      "source": [
        "def function_tmp2(x1):\n",
        "  return 3.0**2.0 + x1*x1\n",
        "\n",
        "numerical_diff(function_tmp2, 4.0)"
      ],
      "execution_count": 48,
      "outputs": [
        {
          "output_type": "execute_result",
          "data": {
            "text/plain": [
              "7.999999999999119"
            ]
          },
          "metadata": {
            "tags": []
          },
          "execution_count": 48
        }
      ]
    },
    {
      "cell_type": "markdown",
      "metadata": {
        "id": "7DlCG8e-rvl8"
      },
      "source": [
        "## 4.4勾配"
      ]
    },
    {
      "cell_type": "markdown",
      "metadata": {
        "id": "URExohnhsBI5"
      },
      "source": [
        "各変数の微分をまとめたもの：**勾配**  "
      ]
    },
    {
      "cell_type": "code",
      "metadata": {
        "id": "NHrZTsf3tPAu"
      },
      "source": [
        "def numerical_gradient(f, x):\n",
        "  h =1e-4\n",
        "  grad = np.zeros_like(x)\n",
        "\n",
        "  for idx in range(x.size):\n",
        "    tmp_val = x[idx]\n",
        "\n",
        "    x[idx] = tmp_val + h\n",
        "    fxh1 = f(x)\n",
        "\n",
        "    x[idx] = tmp_val - h\n",
        "    fxh2 = f(x)\n",
        "\n",
        "    grad[idx] = (fxh1 - fxh2) / (2*h)\n",
        "    x[idx] = tmp_val\n",
        "  \n",
        "  return grad"
      ],
      "execution_count": 49,
      "outputs": []
    },
    {
      "cell_type": "code",
      "metadata": {
        "id": "sInoVxxVt-h6",
        "colab": {
          "base_uri": "https://localhost:8080/"
        },
        "outputId": "bb794519-ab59-4c08-f57b-254637f9cc06"
      },
      "source": [
        "numerical_gradient(function_2, np.array([3.0, 4.0]))"
      ],
      "execution_count": 50,
      "outputs": [
        {
          "output_type": "execute_result",
          "data": {
            "text/plain": [
              "array([6., 8.])"
            ]
          },
          "metadata": {
            "tags": []
          },
          "execution_count": 50
        }
      ]
    },
    {
      "cell_type": "code",
      "metadata": {
        "id": "oy-XB7RCuCkl",
        "colab": {
          "base_uri": "https://localhost:8080/"
        },
        "outputId": "2f889023-83ce-4c86-8e78-e4d02bfd36b8"
      },
      "source": [
        "numerical_gradient(function_2, np.array([0.0, 2.0]))"
      ],
      "execution_count": 51,
      "outputs": [
        {
          "output_type": "execute_result",
          "data": {
            "text/plain": [
              "array([0., 4.])"
            ]
          },
          "metadata": {
            "tags": []
          },
          "execution_count": 51
        }
      ]
    },
    {
      "cell_type": "code",
      "metadata": {
        "id": "vHmoXaWWnIno",
        "colab": {
          "base_uri": "https://localhost:8080/"
        },
        "outputId": "31d5080d-fbd9-4089-d2eb-fdf9e13217ef"
      },
      "source": [
        "numerical_gradient(function_2, np.array([3.0, 0.0]))"
      ],
      "execution_count": 52,
      "outputs": [
        {
          "output_type": "execute_result",
          "data": {
            "text/plain": [
              "array([6., 0.])"
            ]
          },
          "metadata": {
            "tags": []
          },
          "execution_count": 52
        }
      ]
    },
    {
      "cell_type": "markdown",
      "metadata": {
        "id": "_qBm0BXhndhZ"
      },
      "source": [
        "$f(x_0, x_1)= {x_0}^2 + {x_1}^2$のこう配を描画する"
      ]
    },
    {
      "cell_type": "code",
      "metadata": {
        "id": "ckKnbmponjTw"
      },
      "source": [
        "def _numerical_gradient_no_batch(f, x):\n",
        "    h = 1e-4  # 0.0001\n",
        "    grad = np.zeros_like(x)\n",
        "    \n",
        "    for idx in range(x.size):\n",
        "        tmp_val = x[idx]\n",
        "        x[idx] = float(tmp_val) + h\n",
        "        fxh1 = f(x)  # f(x+h)\n",
        "        \n",
        "        x[idx] = tmp_val - h \n",
        "        fxh2 = f(x)  # f(x-h)\n",
        "        grad[idx] = (fxh1 - fxh2) / (2*h)\n",
        "        \n",
        "        x[idx] = tmp_val  # 値を元に戻す\n",
        "        \n",
        "    return grad"
      ],
      "execution_count": 53,
      "outputs": []
    },
    {
      "cell_type": "code",
      "metadata": {
        "id": "CGdMq6nPnm-f"
      },
      "source": [
        "def numerical_gradient(f, X):\n",
        "    if X.ndim == 1:\n",
        "        return _numerical_gradient_no_batch(f, X)\n",
        "    else:\n",
        "        grad = np.zeros_like(X)\n",
        "        \n",
        "        for idx, x in enumerate(X):\n",
        "            grad[idx] = _numerical_gradient_no_batch(f, x)\n",
        "        \n",
        "        return grad"
      ],
      "execution_count": 54,
      "outputs": []
    },
    {
      "cell_type": "code",
      "metadata": {
        "id": "DOJzqZBTndxD"
      },
      "source": [
        "def function_2(x):\n",
        "    if x.ndim == 1:\n",
        "        return np.sum(x**2)\n",
        "    else:\n",
        "        return np.sum(x**2, axis=1)"
      ],
      "execution_count": 55,
      "outputs": []
    },
    {
      "cell_type": "code",
      "metadata": {
        "id": "1OSeQjUwnMIh",
        "colab": {
          "base_uri": "https://localhost:8080/",
          "height": 283
        },
        "outputId": "c3b00970-4e0d-4de0-d8e0-4c6cc0172997"
      },
      "source": [
        "x0 = np.arange(-2, 2.5, 0.25)\n",
        "x1 = np.arange(-2, 2.5, 0.25)\n",
        "X, Y = np.meshgrid(x0, x1)\n",
        "\n",
        "X = X.flatten()\n",
        "Y = Y.flatten()\n",
        "\n",
        "grad = numerical_gradient(function_2, np.array([X, Y]).T).T\n",
        "\n",
        "plt.figure()\n",
        "plt.quiver(X, Y, -grad[0], -grad[1],  angles=\"xy\",color=\"#666666\")\n",
        "plt.xlim([-2, 2])\n",
        "plt.ylim([-2, 2])\n",
        "plt.xlabel('x0')\n",
        "plt.ylabel('x1')\n",
        "plt.grid()\n",
        "plt.draw()\n",
        "plt.show()"
      ],
      "execution_count": 56,
      "outputs": [
        {
          "output_type": "display_data",
          "data": {
            "image/png": "[encoded data removed]",
            "text/plain": [
              "<Figure size 432x288 with 1 Axes>"
            ]
          },
          "metadata": {
            "tags": [],
            "needs_background": "light"
          }
        }
      ]
    },
    {
      "cell_type": "markdown",
      "metadata": {
        "id": "27iQSWPtoYsZ"
      },
      "source": [
        "勾配は各地点において低くなる方向を指す  \n",
        "勾配が示す方向：各場所において**関数の値を最も減らす方向**"
      ]
    },
    {
      "cell_type": "markdown",
      "metadata": {
        "id": "AZRM7pKZoaw5"
      },
      "source": [
        "### 4.4.1勾配法"
      ]
    },
    {
      "cell_type": "markdown",
      "metadata": {
        "id": "GoFDyOZJoz8x"
      },
      "source": [
        "一般に損失関数は複雑  \n",
        "関数の極小値、極大値、**鞍点(saddle point)**では勾配は0  \n",
        "関数が複雑で歪だと平らな土地(プラトー)に入り込み学習が停滞  "
      ]
    },
    {
      "cell_type": "markdown",
      "metadata": {
        "id": "ifFIUz2aq7NV"
      },
      "source": [
        "とにかく勾配を小さくする方に進みたい  \n",
        "**勾配法(gradient method)**を用いる  \n"
      ]
    },
    {
      "cell_type": "markdown",
      "metadata": {
        "id": "keWaRO2BrS3L"
      },
      "source": [
        "最小を探す場合:**勾配降下法**  \n",
        "最大を探す場合:**勾配上昇法**"
      ]
    },
    {
      "cell_type": "markdown",
      "metadata": {
        "id": "pE6dQkmEriOY"
      },
      "source": [
        "勾配法を数式で表現($\\eta$は**学習率(learning rate)**)   \n",
        "$\\displaystyle x_0=x_0-\\eta\\frac{\\partial{f}}{\\partial{x_0}}$  \n",
        "$\\displaystyle x_1=x_1-\\eta\\frac{\\partial{f}}{\\partial{x_1}}$"
      ]
    },
    {
      "cell_type": "markdown",
      "metadata": {
        "id": "g7yakBbfshqS"
      },
      "source": [
        "勾配降下法の実装  \n",
        "`f`は最適化したい関数、`init_x`は初期値、`lr`はlearning rate、`step_numは繰り返し数`"
      ]
    },
    {
      "cell_type": "code",
      "metadata": {
        "id": "zREjv4urq6iw"
      },
      "source": [
        "def gradient_descent(f, init_x, lr=0.01, step_num=100):\n",
        "  x = init_x\n",
        "  for i in range(step_num):\n",
        "    grad = numerical_gradient(f,x)\n",
        "    x -= lr * grad\n",
        "  return x"
      ],
      "execution_count": 57,
      "outputs": []
    },
    {
      "cell_type": "markdown",
      "metadata": {
        "id": "7k8DEFjPtCsE"
      },
      "source": [
        "$f(x_0, x_1)= {x_0}^2 + {x_1}^2$の最小値を勾配法で求める"
      ]
    },
    {
      "cell_type": "code",
      "metadata": {
        "id": "PdqpXstItA_y"
      },
      "source": [
        "def function_2(x):\n",
        "  return x[0]**2 + x[1]**2"
      ],
      "execution_count": 58,
      "outputs": []
    },
    {
      "cell_type": "code",
      "metadata": {
        "id": "eCYSYDEetYie",
        "colab": {
          "base_uri": "https://localhost:8080/"
        },
        "outputId": "cee7adfc-3e13-4259-b307-5fe7e4bcccc0"
      },
      "source": [
        "init_x = np.array([-3.0, 4.0])\n",
        "gradient_descent(function_2, init_x=init_x, lr=0.1, step_num=100)"
      ],
      "execution_count": 59,
      "outputs": [
        {
          "output_type": "execute_result",
          "data": {
            "text/plain": [
              "array([-6.11110793e-10,  8.14814391e-10])"
            ]
          },
          "metadata": {
            "tags": []
          },
          "execution_count": 59
        }
      ]
    },
    {
      "cell_type": "markdown",
      "metadata": {
        "id": "ozx_B5EBuZyw"
      },
      "source": [
        "$f(x_0, x_1)= {x_0}^2 + {x_1}^2$の勾配法による更新のプロセス"
      ]
    },
    {
      "cell_type": "code",
      "metadata": {
        "id": "HeHjo_RLtbhx",
        "colab": {
          "base_uri": "https://localhost:8080/",
          "height": 279
        },
        "outputId": "ea7adecc-ff65-4c87-aea5-fc381089549a"
      },
      "source": [
        "def gradient_descent(f, init_x, lr=0.01, step_num=100):\n",
        "    x = init_x\n",
        "    x_history = []\n",
        "\n",
        "    for i in range(step_num):\n",
        "        x_history.append( x.copy() )\n",
        "\n",
        "        grad = numerical_gradient(f, x)\n",
        "        x -= lr * grad\n",
        "\n",
        "    return x, np.array(x_history)\n",
        "    \n",
        "lr=0.1\n",
        "step_num=100\n",
        "x, x_history = gradient_descent(function_2, init_x, lr=lr, step_num=step_num)\n",
        "\n",
        "plt.plot( [-5, 5], [0,0], '--b')\n",
        "plt.plot( [0,0], [-5, 5], '--b')\n",
        "plt.plot(x_history[:,0], x_history[:,1], 'o')\n",
        "\n",
        "plt.xlim(-3.5, 3.5)\n",
        "plt.ylim(-4.5, 4.5)\n",
        "plt.xlabel(\"X0\")\n",
        "plt.ylabel(\"X1\")\n",
        "plt.show()"
      ],
      "execution_count": 60,
      "outputs": [
        {
          "output_type": "display_data",
          "data": {
            "image/png": "[encoded data removed]",
            "text/plain": [
              "<Figure size 432x288 with 1 Axes>"
            ]
          },
          "metadata": {
            "tags": [],
            "needs_background": "light"
          }
        }
      ]
    },
    {
      "cell_type": "markdown",
      "metadata": {
        "id": "DVs5vFCzfV8Q"
      },
      "source": [
        "### 4.4.2ニューラルネットワークに対する勾配"
      ]
    },
    {
      "cell_type": "markdown",
      "metadata": {
        "id": "STGHkYtxfjcJ"
      },
      "source": [
        "$$ \\bf{W} = \\left(\n",
        "    \\begin{array}{ccc}\n",
        "      w_{11} & w_{12} & w_{13} \\\\\n",
        "      w_{21} & w_{22} & w_{23} \\\\\n",
        "    \\end{array}\n",
        "  \\right)$$  \n",
        "$$ \\frac{\\partial L}{\\partial \\bf{W}} = \\left(\n",
        "    \\begin{array}{ccc}\n",
        "      \\frac{\\partial L}{\\partial w_{11}} & \\frac{\\partial L}{\\partial w_{12}} & \\frac{\\partial L}{\\partial w_{13}} \\\\\n",
        "      \\frac{\\partial L}{\\partial w_{21}} & \\frac{\\partial L}{\\partial w_{22}} & \\frac{\\partial L}{\\partial w_{23}} \\\\\n",
        "    \\end{array}\n",
        "  \\right)$$  "
      ]
    },
    {
      "cell_type": "markdown",
      "metadata": {
        "id": "LCwu3X43iOIG"
      },
      "source": [
        "かんたんなニューラルネットワークを例にして実際の勾配を求める"
      ]
    },
    {
      "cell_type": "code",
      "metadata": {
        "id": "BYXtQI2lfaSO"
      },
      "source": [
        "sys.path.append(\"./deep-learning-from-scratch\")\n",
        "from common.functions import softmax, cross_entropy_error\n",
        "from common.gradient import numerical_gradient\n",
        "\n",
        "class simpleNet:\n",
        "  def __init__(self):\n",
        "    self.W = np.random.randn(2,3)\n",
        "  \n",
        "  def predict(self, x):\n",
        "    return np.dot(x, self.W)\n",
        "  \n",
        "  def loss(self, x, t):\n",
        "    z = self.predict(x)\n",
        "    y = softmax(z)\n",
        "    return cross_entropy_error(z,y)"
      ],
      "execution_count": 67,
      "outputs": []
    },
    {
      "cell_type": "code",
      "metadata": {
        "colab": {
          "base_uri": "https://localhost:8080/"
        },
        "id": "F3_-w1a7hY90",
        "outputId": "27653734-5999-4551-f7dc-f66c6bff5cfe"
      },
      "source": [
        "net = simpleNet()\n",
        "print(net.W)"
      ],
      "execution_count": 73,
      "outputs": [
        {
          "output_type": "stream",
          "text": [
            "[[-0.67915988  0.57553788 -0.28745753]\n",
            " [ 0.9190202  -0.06030705 -0.60504564]]\n"
          ],
          "name": "stdout"
        }
      ]
    },
    {
      "cell_type": "code",
      "metadata": {
        "colab": {
          "base_uri": "https://localhost:8080/"
        },
        "id": "R2dT5V5qi7KZ",
        "outputId": "a444812d-ea64-4df0-ced8-a421652c6497"
      },
      "source": [
        "x = np.array([0.6, 0.9])\n",
        "p = net.predict(x)\n",
        "print(p)"
      ],
      "execution_count": 74,
      "outputs": [
        {
          "output_type": "stream",
          "text": [
            "[ 0.41962225  0.29104638 -0.71701559]\n"
          ],
          "name": "stdout"
        }
      ]
    },
    {
      "cell_type": "code",
      "metadata": {
        "colab": {
          "base_uri": "https://localhost:8080/"
        },
        "id": "9KhnNr0KjBwN",
        "outputId": "10b760bc-4a34-4c2e-aaaf-853619147084"
      },
      "source": [
        "np.argmax(p)"
      ],
      "execution_count": 75,
      "outputs": [
        {
          "output_type": "execute_result",
          "data": {
            "text/plain": [
              "0"
            ]
          },
          "metadata": {
            "tags": []
          },
          "execution_count": 75
        }
      ]
    },
    {
      "cell_type": "code",
      "metadata": {
        "colab": {
          "base_uri": "https://localhost:8080/"
        },
        "id": "C9YAOyNcjEGW",
        "outputId": "c98f4287-4677-473a-fa4c-2d792b5ffff6"
      },
      "source": [
        "t = np.array([0, 0, 1])\n",
        "net.loss(x,t )"
      ],
      "execution_count": 76,
      "outputs": [
        {
          "output_type": "execute_result",
          "data": {
            "text/plain": [
              "0.8684001474478942"
            ]
          },
          "metadata": {
            "tags": []
          },
          "execution_count": 76
        }
      ]
    },
    {
      "cell_type": "code",
      "metadata": {
        "colab": {
          "base_uri": "https://localhost:8080/"
        },
        "id": "tUJgdjkmjJRk",
        "outputId": "11d5a208-0c41-47e6-98aa-283ec187595a"
      },
      "source": [
        "def f(W):\n",
        "  return net.loss(x, t)\n",
        "\n",
        "dW = numerical_gradient(f, net.W)\n",
        "print(dW)"
      ],
      "execution_count": 77,
      "outputs": [
        {
          "output_type": "stream",
          "text": [
            "[[-1.42985713  0.          0.        ]\n",
            " [-2.14478571  0.          0.        ]]\n"
          ],
          "name": "stdout"
        }
      ]
    },
    {
      "cell_type": "markdown",
      "metadata": {
        "id": "FKf6RYbgj0QX"
      },
      "source": [
        "lambda記法による書き方もできる"
      ]
    },
    {
      "cell_type": "code",
      "metadata": {
        "id": "_p1WGnbJjmk0"
      },
      "source": [
        "f = lambda w: net.loss(x, t)\n",
        "dW = numerical_gradient(f, net.W)"
      ],
      "execution_count": 78,
      "outputs": []
    },
    {
      "cell_type": "markdown",
      "metadata": {
        "id": "sJxo1GJWkI9a"
      },
      "source": [
        "## 4.5学習アルゴリズムの実装"
      ]
    },
    {
      "cell_type": "markdown",
      "metadata": {
        "id": "YZ3u5FADkRIW"
      },
      "source": [
        "**前提**  \n",
        "重みとバイアスを訓練データに適合するように調整:「学習」  \n",
        "\n",
        "**ステップ1**  \n",
        "ミニバッチをくれんデータから取り出す  \n",
        "ミニバッチの損失関数の値を減らす  \n",
        "**ステップ2**  \n",
        "各重みパラメータの勾配を求める  \n",
        "勾配は損失関数の値を最も減らす方向を示す。 \n",
        "**ステップ3**  \n",
        "重みパラメータを勾配方向に微小分だけ更新する  \n",
        "**ステップ4**  \n",
        "ステップ1~3を繰り返す"
      ]
    },
    {
      "cell_type": "markdown",
      "metadata": {
        "id": "A7Rs3-9elHFa"
      },
      "source": [
        "### 4.5.12層ニューラルネットワークのクラス"
      ]
    },
    {
      "cell_type": "markdown",
      "metadata": {
        "id": "BINAfm0ynVjB"
      },
      "source": [
        "かんたんな２層ネットワークの実装"
      ]
    },
    {
      "cell_type": "code",
      "metadata": {
        "id": "Q_pWP3y7kIXn"
      },
      "source": [
        "from common.functions import * \n",
        "from common.gradient import numerical_gradient\n",
        "\n",
        "class TwoLayerNet:\n",
        "  def __init__(self, input_size, hidden_size, output_size,\n",
        "               weight_init_std=0.01):\n",
        "    self.params = {}\n",
        "    self.params['W1'] = weight_init_std* \\\n",
        "                          np.random.randn(input_size, hidden_size)\n",
        "    self.params['b1'] = np.zeros(hidden_size)\n",
        "\n",
        "    self.params['W2'] = weight_init_std* \\\n",
        "                          np.random.randn(hidden_size, output_size)\n",
        "    self.params['b2'] = np.zeros(output_size)\n",
        "  \n",
        "  def predict(self, x):\n",
        "    W1, W2 = self.params['W1'], self.params['W2']\n",
        "    b1, b2 = self.params['b1'], self.params['b2']\n",
        "\n",
        "    a1 = np.dot(x, W1) + b1\n",
        "    z1 = sigmoid(a1)\n",
        "    a2 = np.dot(z1, W2) + b2\n",
        "    y = softmax(a2)\n",
        "\n",
        "    return y \n",
        "\n",
        "  def loss(self, x, t):\n",
        "    y = self.predict(x)\n",
        "    return cross_entropy_error(y, t)\n",
        "\n",
        "  def accuracy(self, x, t):\n",
        "    y = self.predict(x)\n",
        "    y = np.argmax(y, axis=1)\n",
        "    t = np.argmax(t, axis=1)\n",
        "\n",
        "    accuracy = np.sum(y==t) / float(x.shape[0])\n",
        "    return accuracy\n",
        "  \n",
        "  def numerical_gradient(self, x, t):\n",
        "    loss_W = lambda W: self.loss(x,t)\n",
        "\n",
        "    grads = {}\n",
        "    grads['W1'] = numerical_gradient(loss_W, self.params['W1'])\n",
        "    grads['b1'] = numerical_gradient(loss_W, self.params['b1'])\n",
        "    grads['W2'] = numerical_gradient(loss_W, self.params['W2'])\n",
        "    grads['b2'] = numerical_gradient(loss_W, self.params['b2'])\n",
        "\n",
        "    return grads"
      ],
      "execution_count": 82,
      "outputs": []
    },
    {
      "cell_type": "code",
      "metadata": {
        "colab": {
          "base_uri": "https://localhost:8080/"
        },
        "id": "VJkCQP2sl-zk",
        "outputId": "1900e139-72bf-47b9-db08-b3de89fe3f56"
      },
      "source": [
        "net = TwoLayerNet(input_size=784, hidden_size=100, output_size=10)\n",
        "print(net.params['W1'].shape)\n",
        "print(net.params['b1'].shape)\n",
        "print(net.params['W2'].shape)\n",
        "print(net.params['b2'].shape)"
      ],
      "execution_count": 84,
      "outputs": [
        {
          "output_type": "stream",
          "text": [
            "(784, 100)\n",
            "(100,)\n",
            "(100, 10)\n",
            "(10,)\n"
          ],
          "name": "stdout"
        }
      ]
    },
    {
      "cell_type": "code",
      "metadata": {
        "colab": {
          "base_uri": "https://localhost:8080/"
        },
        "id": "i6ZNqHnFnozL",
        "outputId": "036d9477-2a83-41b6-c99b-61a13e47ff36"
      },
      "source": [
        "x = np.random.rand(100,784)\n",
        "t = np.random.rand(100,10)\n",
        "\n",
        "grads = net.numerical_gradient(x,t)\n",
        "\n",
        "print(grads['W1'].shape)\n",
        "print(grads['b1'].shape)\n",
        "print(grads['W2'].shape)\n",
        "print(grads['b2'].shape)"
      ],
      "execution_count": 85,
      "outputs": [
        {
          "output_type": "stream",
          "text": [
            "(784, 100)\n",
            "(100,)\n",
            "(100, 10)\n",
            "(10,)\n"
          ],
          "name": "stdout"
        }
      ]
    },
    {
      "cell_type": "markdown",
      "metadata": {
        "id": "xfU58Lxfo7lb"
      },
      "source": [
        "### 4.5.2ミニバッチ学習の実装"
      ]
    },
    {
      "cell_type": "markdown",
      "metadata": {
        "id": "K1n6M_0mp4WJ"
      },
      "source": [
        "TwoLayerNetクラスに対応できるミニバッチ学習ステップの実装"
      ]
    },
    {
      "cell_type": "code",
      "metadata": {
        "id": "z3PqlksUn7SA"
      },
      "source": [
        "(x_train, t_train), (x_test, t_test) = \\\n",
        "  load_mnist(normalize=True, one_hot_label=True)\n",
        "\n",
        "train_loss_list = []\n",
        "\n",
        "iters_num = 10000\n",
        "train_size = x_train.shape[0]\n",
        "batch_size = 100\n",
        "learning_late = 0.1\n",
        "\n",
        "network = TwoLayerNet(input_size=784, hidden_size=100, output_size=10)"
      ],
      "execution_count": 87,
      "outputs": []
    },
    {
      "cell_type": "code",
      "metadata": {
        "colab": {
          "base_uri": "https://localhost:8080/",
          "height": 463
        },
        "id": "tcZ0lzSKqqqF",
        "outputId": "2cc49168-6419-4e0c-c393-4ec234ebc03b"
      },
      "source": [
        "for i in range(iters_num):\n",
        "  print('iter: ', i)\n",
        "  batch_mask = np.random.choice(train_size, batch_size)\n",
        "  x_batch = x_train[batch_mask]\n",
        "  t_batch = t_train[batch_mask]\n",
        "\n",
        "  grad = network.numerical_gradient(x_batch, t_batch)\n",
        "\n",
        "  for key in ('W1', 'b1', 'W2', 'b2'):\n",
        "    network.params[key] -= learning_late*grad[key]\n",
        "  \n",
        "  loss = network.loss(x_batch, t_batch)\n",
        "  train_loss_list.append(loss)"
      ],
      "execution_count": 88,
      "outputs": [
        {
          "output_type": "stream",
          "text": [
            "iter:  0\n",
            "iter:  1\n",
            "iter:  2\n"
          ],
          "name": "stdout"
        },
        {
          "output_type": "error",
          "ename": "KeyboardInterrupt",
          "evalue": "ignored",
          "traceback": [
            "\u001b[0;31m---------------------------------------------------------------------------\u001b[0m",
            "\u001b[0;31mKeyboardInterrupt\u001b[0m                         Traceback (most recent call last)",
            "\u001b[0;32m<ipython-input-88-6eca74b4ce72>\u001b[0m in \u001b[0;36m<module>\u001b[0;34m()\u001b[0m\n\u001b[1;32m      5\u001b[0m   \u001b[0mt_batch\u001b[0m \u001b[0;34m=\u001b[0m \u001b[0mt_train\u001b[0m\u001b[0;34m[\u001b[0m\u001b[0mbatch_mask\u001b[0m\u001b[0;34m]\u001b[0m\u001b[0;34m\u001b[0m\u001b[0;34m\u001b[0m\u001b[0m\n\u001b[1;32m      6\u001b[0m \u001b[0;34m\u001b[0m\u001b[0m\n\u001b[0;32m----> 7\u001b[0;31m   \u001b[0mgrad\u001b[0m \u001b[0;34m=\u001b[0m \u001b[0mnetwork\u001b[0m\u001b[0;34m.\u001b[0m\u001b[0mnumerical_gradient\u001b[0m\u001b[0;34m(\u001b[0m\u001b[0mx_batch\u001b[0m\u001b[0;34m,\u001b[0m \u001b[0mt_batch\u001b[0m\u001b[0;34m)\u001b[0m\u001b[0;34m\u001b[0m\u001b[0;34m\u001b[0m\u001b[0m\n\u001b[0m\u001b[1;32m      8\u001b[0m \u001b[0;34m\u001b[0m\u001b[0m\n\u001b[1;32m      9\u001b[0m   \u001b[0;32mfor\u001b[0m \u001b[0mkey\u001b[0m \u001b[0;32min\u001b[0m \u001b[0;34m(\u001b[0m\u001b[0;34m'W1'\u001b[0m\u001b[0;34m,\u001b[0m \u001b[0;34m'b1'\u001b[0m\u001b[0;34m,\u001b[0m \u001b[0;34m'W2'\u001b[0m\u001b[0;34m,\u001b[0m \u001b[0;34m'b2'\u001b[0m\u001b[0;34m)\u001b[0m\u001b[0;34m:\u001b[0m\u001b[0;34m\u001b[0m\u001b[0;34m\u001b[0m\u001b[0m\n",
            "\u001b[0;32m<ipython-input-82-2ee3a030f417>\u001b[0m in \u001b[0;36mnumerical_gradient\u001b[0;34m(self, x, t)\u001b[0m\n\u001b[1;32m     39\u001b[0m \u001b[0;34m\u001b[0m\u001b[0m\n\u001b[1;32m     40\u001b[0m     \u001b[0mgrads\u001b[0m \u001b[0;34m=\u001b[0m \u001b[0;34m{\u001b[0m\u001b[0;34m}\u001b[0m\u001b[0;34m\u001b[0m\u001b[0;34m\u001b[0m\u001b[0m\n\u001b[0;32m---> 41\u001b[0;31m     \u001b[0mgrads\u001b[0m\u001b[0;34m[\u001b[0m\u001b[0;34m'W1'\u001b[0m\u001b[0;34m]\u001b[0m \u001b[0;34m=\u001b[0m \u001b[0mnumerical_gradient\u001b[0m\u001b[0;34m(\u001b[0m\u001b[0mloss_W\u001b[0m\u001b[0;34m,\u001b[0m \u001b[0mself\u001b[0m\u001b[0;34m.\u001b[0m\u001b[0mparams\u001b[0m\u001b[0;34m[\u001b[0m\u001b[0;34m'W1'\u001b[0m\u001b[0;34m]\u001b[0m\u001b[0;34m)\u001b[0m\u001b[0;34m\u001b[0m\u001b[0;34m\u001b[0m\u001b[0m\n\u001b[0m\u001b[1;32m     42\u001b[0m     \u001b[0mgrads\u001b[0m\u001b[0;34m[\u001b[0m\u001b[0;34m'b1'\u001b[0m\u001b[0;34m]\u001b[0m \u001b[0;34m=\u001b[0m \u001b[0mnumerical_gradient\u001b[0m\u001b[0;34m(\u001b[0m\u001b[0mloss_W\u001b[0m\u001b[0;34m,\u001b[0m \u001b[0mself\u001b[0m\u001b[0;34m.\u001b[0m\u001b[0mparams\u001b[0m\u001b[0;34m[\u001b[0m\u001b[0;34m'b1'\u001b[0m\u001b[0;34m]\u001b[0m\u001b[0;34m)\u001b[0m\u001b[0;34m\u001b[0m\u001b[0;34m\u001b[0m\u001b[0m\n\u001b[1;32m     43\u001b[0m     \u001b[0mgrads\u001b[0m\u001b[0;34m[\u001b[0m\u001b[0;34m'W2'\u001b[0m\u001b[0;34m]\u001b[0m \u001b[0;34m=\u001b[0m \u001b[0mnumerical_gradient\u001b[0m\u001b[0;34m(\u001b[0m\u001b[0mloss_W\u001b[0m\u001b[0;34m,\u001b[0m \u001b[0mself\u001b[0m\u001b[0;34m.\u001b[0m\u001b[0mparams\u001b[0m\u001b[0;34m[\u001b[0m\u001b[0;34m'W2'\u001b[0m\u001b[0;34m]\u001b[0m\u001b[0;34m)\u001b[0m\u001b[0;34m\u001b[0m\u001b[0;34m\u001b[0m\u001b[0m\n",
            "\u001b[0;32m/content/deep-learning-from-scratch/common/gradient.py\u001b[0m in \u001b[0;36mnumerical_gradient\u001b[0;34m(f, x)\u001b[0m\n\u001b[1;32m     41\u001b[0m         \u001b[0mtmp_val\u001b[0m \u001b[0;34m=\u001b[0m \u001b[0mx\u001b[0m\u001b[0;34m[\u001b[0m\u001b[0midx\u001b[0m\u001b[0;34m]\u001b[0m\u001b[0;34m\u001b[0m\u001b[0;34m\u001b[0m\u001b[0m\n\u001b[1;32m     42\u001b[0m         \u001b[0mx\u001b[0m\u001b[0;34m[\u001b[0m\u001b[0midx\u001b[0m\u001b[0;34m]\u001b[0m \u001b[0;34m=\u001b[0m \u001b[0mtmp_val\u001b[0m \u001b[0;34m+\u001b[0m \u001b[0mh\u001b[0m\u001b[0;34m\u001b[0m\u001b[0;34m\u001b[0m\u001b[0m\n\u001b[0;32m---> 43\u001b[0;31m         \u001b[0mfxh1\u001b[0m \u001b[0;34m=\u001b[0m \u001b[0mf\u001b[0m\u001b[0;34m(\u001b[0m\u001b[0mx\u001b[0m\u001b[0;34m)\u001b[0m \u001b[0;31m# f(x+h)\u001b[0m\u001b[0;34m\u001b[0m\u001b[0;34m\u001b[0m\u001b[0m\n\u001b[0m\u001b[1;32m     44\u001b[0m \u001b[0;34m\u001b[0m\u001b[0m\n\u001b[1;32m     45\u001b[0m         \u001b[0mx\u001b[0m\u001b[0;34m[\u001b[0m\u001b[0midx\u001b[0m\u001b[0;34m]\u001b[0m \u001b[0;34m=\u001b[0m \u001b[0mtmp_val\u001b[0m \u001b[0;34m-\u001b[0m \u001b[0mh\u001b[0m\u001b[0;34m\u001b[0m\u001b[0;34m\u001b[0m\u001b[0m\n",
            "\u001b[0;32m<ipython-input-82-2ee3a030f417>\u001b[0m in \u001b[0;36m<lambda>\u001b[0;34m(W)\u001b[0m\n\u001b[1;32m     36\u001b[0m \u001b[0;34m\u001b[0m\u001b[0m\n\u001b[1;32m     37\u001b[0m   \u001b[0;32mdef\u001b[0m \u001b[0mnumerical_gradient\u001b[0m\u001b[0;34m(\u001b[0m\u001b[0mself\u001b[0m\u001b[0;34m,\u001b[0m \u001b[0mx\u001b[0m\u001b[0;34m,\u001b[0m \u001b[0mt\u001b[0m\u001b[0;34m)\u001b[0m\u001b[0;34m:\u001b[0m\u001b[0;34m\u001b[0m\u001b[0;34m\u001b[0m\u001b[0m\n\u001b[0;32m---> 38\u001b[0;31m     \u001b[0mloss_W\u001b[0m \u001b[0;34m=\u001b[0m \u001b[0;32mlambda\u001b[0m \u001b[0mW\u001b[0m\u001b[0;34m:\u001b[0m \u001b[0mself\u001b[0m\u001b[0;34m.\u001b[0m\u001b[0mloss\u001b[0m\u001b[0;34m(\u001b[0m\u001b[0mx\u001b[0m\u001b[0;34m,\u001b[0m\u001b[0mt\u001b[0m\u001b[0;34m)\u001b[0m\u001b[0;34m\u001b[0m\u001b[0;34m\u001b[0m\u001b[0m\n\u001b[0m\u001b[1;32m     39\u001b[0m \u001b[0;34m\u001b[0m\u001b[0m\n\u001b[1;32m     40\u001b[0m     \u001b[0mgrads\u001b[0m \u001b[0;34m=\u001b[0m \u001b[0;34m{\u001b[0m\u001b[0;34m}\u001b[0m\u001b[0;34m\u001b[0m\u001b[0;34m\u001b[0m\u001b[0m\n",
            "\u001b[0;32m<ipython-input-82-2ee3a030f417>\u001b[0m in \u001b[0;36mloss\u001b[0;34m(self, x, t)\u001b[0m\n\u001b[1;32m     24\u001b[0m \u001b[0;34m\u001b[0m\u001b[0m\n\u001b[1;32m     25\u001b[0m   \u001b[0;32mdef\u001b[0m \u001b[0mloss\u001b[0m\u001b[0;34m(\u001b[0m\u001b[0mself\u001b[0m\u001b[0;34m,\u001b[0m \u001b[0mx\u001b[0m\u001b[0;34m,\u001b[0m \u001b[0mt\u001b[0m\u001b[0;34m)\u001b[0m\u001b[0;34m:\u001b[0m\u001b[0;34m\u001b[0m\u001b[0;34m\u001b[0m\u001b[0m\n\u001b[0;32m---> 26\u001b[0;31m     \u001b[0my\u001b[0m \u001b[0;34m=\u001b[0m \u001b[0mself\u001b[0m\u001b[0;34m.\u001b[0m\u001b[0mpredict\u001b[0m\u001b[0;34m(\u001b[0m\u001b[0mx\u001b[0m\u001b[0;34m)\u001b[0m\u001b[0;34m\u001b[0m\u001b[0;34m\u001b[0m\u001b[0m\n\u001b[0m\u001b[1;32m     27\u001b[0m     \u001b[0;32mreturn\u001b[0m \u001b[0mcross_entropy_error\u001b[0m\u001b[0;34m(\u001b[0m\u001b[0my\u001b[0m\u001b[0;34m,\u001b[0m \u001b[0mt\u001b[0m\u001b[0;34m)\u001b[0m\u001b[0;34m\u001b[0m\u001b[0;34m\u001b[0m\u001b[0m\n\u001b[1;32m     28\u001b[0m \u001b[0;34m\u001b[0m\u001b[0m\n",
            "\u001b[0;32m<ipython-input-82-2ee3a030f417>\u001b[0m in \u001b[0;36mpredict\u001b[0;34m(self, x)\u001b[0m\n\u001b[1;32m     16\u001b[0m     \u001b[0mb1\u001b[0m\u001b[0;34m,\u001b[0m \u001b[0mb2\u001b[0m \u001b[0;34m=\u001b[0m \u001b[0mself\u001b[0m\u001b[0;34m.\u001b[0m\u001b[0mparams\u001b[0m\u001b[0;34m[\u001b[0m\u001b[0;34m'b1'\u001b[0m\u001b[0;34m]\u001b[0m\u001b[0;34m,\u001b[0m \u001b[0mself\u001b[0m\u001b[0;34m.\u001b[0m\u001b[0mparams\u001b[0m\u001b[0;34m[\u001b[0m\u001b[0;34m'b2'\u001b[0m\u001b[0;34m]\u001b[0m\u001b[0;34m\u001b[0m\u001b[0;34m\u001b[0m\u001b[0m\n\u001b[1;32m     17\u001b[0m \u001b[0;34m\u001b[0m\u001b[0m\n\u001b[0;32m---> 18\u001b[0;31m     \u001b[0ma1\u001b[0m \u001b[0;34m=\u001b[0m \u001b[0mnp\u001b[0m\u001b[0;34m.\u001b[0m\u001b[0mdot\u001b[0m\u001b[0;34m(\u001b[0m\u001b[0mx\u001b[0m\u001b[0;34m,\u001b[0m \u001b[0mW1\u001b[0m\u001b[0;34m)\u001b[0m \u001b[0;34m+\u001b[0m \u001b[0mb1\u001b[0m\u001b[0;34m\u001b[0m\u001b[0;34m\u001b[0m\u001b[0m\n\u001b[0m\u001b[1;32m     19\u001b[0m     \u001b[0mz1\u001b[0m \u001b[0;34m=\u001b[0m \u001b[0msigmoid\u001b[0m\u001b[0;34m(\u001b[0m\u001b[0ma1\u001b[0m\u001b[0;34m)\u001b[0m\u001b[0;34m\u001b[0m\u001b[0;34m\u001b[0m\u001b[0m\n\u001b[1;32m     20\u001b[0m     \u001b[0ma2\u001b[0m \u001b[0;34m=\u001b[0m \u001b[0mnp\u001b[0m\u001b[0;34m.\u001b[0m\u001b[0mdot\u001b[0m\u001b[0;34m(\u001b[0m\u001b[0mz1\u001b[0m\u001b[0;34m,\u001b[0m \u001b[0mW2\u001b[0m\u001b[0;34m)\u001b[0m \u001b[0;34m+\u001b[0m \u001b[0mb2\u001b[0m\u001b[0;34m\u001b[0m\u001b[0;34m\u001b[0m\u001b[0m\n",
            "\u001b[0;32m<__array_function__ internals>\u001b[0m in \u001b[0;36mdot\u001b[0;34m(*args, **kwargs)\u001b[0m\n",
            "\u001b[0;31mKeyboardInterrupt\u001b[0m: "
          ]
        }
      ]
    },
    {
      "cell_type": "markdown",
      "metadata": {
        "id": "vKim6nHSspJg"
      },
      "source": [
        "今のままではくれんデータに対する結果しか見れない  \n",
        "このままでは過学習してもわからず、訓練データ以外の  \n",
        "データにも対応できる汎化性を見ることができない  \n",
        "なので以下の指標を追加する"
      ]
    },
    {
      "cell_type": "code",
      "metadata": {
        "id": "beCQBUIUrh2-"
      },
      "source": [
        "train_acc_list = []\n",
        "test_acc_list = []\n",
        "iter_per_epoch= max(train_size/ batch_size, 1)\n",
        "network = TwoLayerNet(input_size=784, hidden_size=100, output_size=10)"
      ],
      "execution_count": 90,
      "outputs": []
    },
    {
      "cell_type": "code",
      "metadata": {
        "id": "YQuHhDoUtKDg"
      },
      "source": [
        "for i in range(iters_num):\n",
        "  print('iter: ', i)\n",
        "  batch_mask = np.random.choice(train_size, batch_size)\n",
        "  x_batch = x_train[batch_mask]\n",
        "  t_batch = t_train[batch_mask]\n",
        "\n",
        "  grad = network.numerical_gradient(x_batch, t_batch)\n",
        "\n",
        "  for key in ('W1', 'b1', 'W2', 'b2'):\n",
        "    network.params[key] -= learning_late*grad[key]\n",
        "  \n",
        "  loss = network.loss(x_batch, t_batch)\n",
        "  train_loss_list.append(loss)\n",
        "\n",
        "  if i % iter_per_epoch == 0:\n",
        "    train_acc = network.accuracy(x_train, t_train)\n",
        "    test_acc = network.accuracy(x_test, t_test)\n",
        "    train_acc_list.append(train_acc)\n",
        "    test_acc_list.append(test_acc)\n",
        "    print(\"train acc, test_acc | \" + str(train_acc) \", \"+ str(test_acc) )"
      ],
      "execution_count": null,
      "outputs": []
    },
    {
      "cell_type": "markdown",
      "metadata": {
        "id": "a8m_B2D3uLe8"
      },
      "source": [
        "## 4.6まとめ\n",
        "\n",
        "\n",
        "*   機械学習のデータセットは訓練用とテスト用に分ける\n",
        "*   訓練データで学習し、テストデータで汎化性をチェックする\n",
        "*   ネットワークは損失関数が小さくなるそうに重みの値を小さくする  \n",
        "*   重みパラメータの更新には勾配を利用して勾配方向に重みの値を更新する作業をくり返す  "
      ]
    },
    {
      "cell_type": "code",
      "metadata": {
        "id": "jU80QU4Buz7Y"
      },
      "source": [
        ""
      ],
      "execution_count": null,
      "outputs": []
    }
  ]
}